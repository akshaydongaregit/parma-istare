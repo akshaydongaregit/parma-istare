{
 "cells": [
  {
   "cell_type": "code",
   "execution_count": 1,
   "metadata": {},
   "outputs": [],
   "source": [
    "import pandas as pd\n",
    "import numpy as np"
   ]
  },
  {
   "cell_type": "code",
   "execution_count": 19,
   "metadata": {},
   "outputs": [],
   "source": [
    "def readFile(filename,tbond=False):\n",
    "    data=pd.read_csv(filename,sep=\",\",usecols=[0,5],names= [\"Date\",\"Price\"], header=0)\n",
    "    if tbond==False:\n",
    "        returns=np.array(data['Price'][:-1],np.float)/np.array(data['Price'][1:],np.float)-1\n",
    "        data[\"Returns\"]=np.append(returns,np.nan)\n",
    "    if tbond==True:\n",
    "        data[\"Returns\"]=data[\"Price\"]/100\n",
    "    data.index = data[\"Date\"]\n",
    "    data=data[\"Returns\"][0:-1]\n",
    "    #data[\"Returns\"].dropna()\n",
    "    return data\n"
   ]
  },
  {
   "cell_type": "code",
   "execution_count": 20,
   "metadata": {},
   "outputs": [],
   "source": [
    "goog=readFile(\"C:/Users/akdongar/Desktop/MySpace/Study/ML/Machine Learning Algorithms/Regression/Stock/GOOG.csv\")\n",
    "tbond=readFile(\"C:/Users/akdongar/Desktop/MySpace/Study/ML/Machine Learning Algorithms/Regression/Stock/^FVX.csv\",tbond=True)\n",
    "nasdaq=readFile(\"C:/Users/akdongar/Desktop/MySpace/Study/ML/Machine Learning Algorithms/Regression/Stock/^IXIC.csv\")\n"
   ]
  },
  {
   "cell_type": "code",
   "execution_count": 21,
   "metadata": {},
   "outputs": [
    {
     "data": {
      "text/plain": [
       "Date\n",
       "10/1/2014    0.031837\n",
       "11/1/2014    0.029312\n",
       "12/1/2014   -0.015191\n",
       "1/1/2015    -0.042765\n",
       "2/1/2015     0.018978\n",
       "3/1/2015     0.017046\n",
       "4/1/2015     0.009829\n",
       "5/1/2015     0.022286\n",
       "6/1/2015    -0.167996\n",
       "7/1/2015    -0.018820\n",
       "8/1/2015     0.047977\n",
       "9/1/2015    -0.144047\n",
       "10/1/2015   -0.042809\n",
       "11/1/2015   -0.021453\n",
       "12/1/2015    0.021442\n",
       "1/1/2016     0.064749\n",
       "2/1/2016    -0.063333\n",
       "3/1/2016     0.074948\n",
       "4/1/2016    -0.058052\n",
       "5/1/2016     0.063026\n",
       "6/1/2016    -0.099754\n",
       "7/1/2016     0.002268\n",
       "8/1/2016    -0.013174\n",
       "9/1/2016    -0.009241\n",
       "10/1/2016    0.034959\n",
       "11/1/2016   -0.017854\n",
       "12/1/2016   -0.031338\n",
       "1/1/2017    -0.032094\n",
       "2/1/2017    -0.007655\n",
       "3/1/2017    -0.084330\n",
       "4/1/2017    -0.061045\n",
       "5/1/2017     0.061768\n",
       "6/1/2017    -0.023396\n",
       "7/1/2017    -0.009400\n",
       "8/1/2017    -0.020623\n",
       "9/1/2017    -0.056588\n",
       "10/1/2017   -0.004670\n",
       "11/1/2017   -0.023882\n",
       "12/1/2017   -0.105595\n",
       "1/1/2018     0.059028\n",
       "2/1/2018     0.070693\n",
       "3/1/2018     0.014214\n",
       "4/1/2018    -0.062360\n",
       "5/1/2018    -0.027482\n",
       "6/1/2018    -0.083474\n",
       "7/1/2018    -0.000763\n",
       "8/1/2018     0.020713\n",
       "9/1/2018     0.108380\n",
       "10/1/2018   -0.016136\n",
       "11/1/2018    0.056798\n",
       "12/1/2018   -0.072342\n",
       "1/1/2019    -0.003170\n",
       "2/1/2019    -0.045504\n",
       "3/1/2019    -0.012764\n",
       "4/1/2019     0.076883\n",
       "5/1/2019     0.021019\n",
       "6/1/2019    -0.111591\n",
       "7/1/2019     0.024055\n",
       "8/1/2019    -0.019218\n",
       "Name: Returns, dtype: float64"
      ]
     },
     "execution_count": 21,
     "metadata": {},
     "output_type": "execute_result"
    }
   ],
   "source": [
    "goog"
   ]
  },
  {
   "cell_type": "code",
   "execution_count": 3,
   "metadata": {},
   "outputs": [],
   "source": [
    "from sklearn.linear_model import SGDRegressor,LinearRegression"
   ]
  },
  {
   "cell_type": "code",
   "execution_count": 4,
   "metadata": {},
   "outputs": [],
   "source": [
    "reg=SGDRegressor(eta0=0.1,n_iter=100000,fit_intercept=False)"
   ]
  },
  {
   "cell_type": "code",
   "execution_count": 22,
   "metadata": {},
   "outputs": [
    {
     "name": "stderr",
     "output_type": "stream",
     "text": [
      "C:\\Users\\akdongar\\AppData\\Local\\Continuum\\anaconda3\\lib\\site-packages\\sklearn\\linear_model\\stochastic_gradient.py:152: DeprecationWarning: n_iter parameter is deprecated in 0.19 and will be removed in 0.21. Use max_iter and tol instead.\n",
      "  DeprecationWarning)\n"
     ]
    },
    {
     "data": {
      "text/plain": [
       "SGDRegressor(alpha=0.0001, average=False, early_stopping=False, epsilon=0.1,\n",
       "       eta0=0.1, fit_intercept=False, l1_ratio=0.15,\n",
       "       learning_rate='invscaling', loss='squared_loss', max_iter=None,\n",
       "       n_iter=100000, n_iter_no_change=5, penalty='l2', power_t=0.25,\n",
       "       random_state=None, shuffle=True, tol=None, validation_fraction=0.1,\n",
       "       verbose=0, warm_start=False)"
      ]
     },
     "execution_count": 22,
     "metadata": {},
     "output_type": "execute_result"
    }
   ],
   "source": [
    "reg.fit(  (nasdaq-tbond).values.reshape(-1,1),(goog-tbond) )"
   ]
  },
  {
   "cell_type": "code",
   "execution_count": 23,
   "metadata": {},
   "outputs": [
    {
     "data": {
      "text/plain": [
       "array([0.91030838])"
      ]
     },
     "execution_count": 23,
     "metadata": {},
     "output_type": "execute_result"
    }
   ],
   "source": [
    "reg.coef_"
   ]
  },
  {
   "cell_type": "code",
   "execution_count": null,
   "metadata": {},
   "outputs": [],
   "source": []
  }
 ],
 "metadata": {
  "kernelspec": {
   "display_name": "Python 3",
   "language": "python",
   "name": "python3"
  },
  "language_info": {
   "codemirror_mode": {
    "name": "ipython",
    "version": 3
   },
   "file_extension": ".py",
   "mimetype": "text/x-python",
   "name": "python",
   "nbconvert_exporter": "python",
   "pygments_lexer": "ipython3",
   "version": "3.7.3"
  }
 },
 "nbformat": 4,
 "nbformat_minor": 2
}
